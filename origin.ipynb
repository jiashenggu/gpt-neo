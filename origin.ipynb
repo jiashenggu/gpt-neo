{
 "cells": [
  {
   "cell_type": "code",
   "execution_count": null,
   "metadata": {},
   "outputs": [
    {
     "ename": "",
     "evalue": "",
     "output_type": "error",
     "traceback": [
      "\u001b[1;31mFailed to start the Kernel. \n",
      "Failed to start the Kernel 'GPTNeo (Python 3.9.7)'. \n",
      "View Jupyter <a href='command:jupyter.viewOutput'>log</a> for further details. Kernel has not been started"
     ]
    }
   ],
   "source": [
    "pretrained_model = 'GPT3_2-7B'\n",
    "path_to_local_weights = f\"/data/wikidata-frame-completion/model/the-eye.eu/public/AI/gptneo-release/{pretrained_model}\""
   ]
  },
  {
   "cell_type": "code",
   "execution_count": 2,
   "metadata": {},
   "outputs": [],
   "source": [
    "# @title Modify config for colab. \n",
    "  \n",
    "import json\n",
    "from pprint import pprint\n",
    "\n",
    "path_to_model = \"\" #@param {type:\"string\"}\n",
    "batch_size = 8 #@param {type:\"integer\"}\n",
    "dset = \"\"  #@param {type:\"string\"}\n",
    "mesh_shape = \"x:4,y:2\" #@param {type:\"string\"}\n",
    "train_steps = 1000 #@param {type:\"integer\"}\n",
    "steps_per_checkpoint = 500 #@param {type:\"integer\"}\n",
    "start_step = 400000 if pretrained_model == \"GPT3_2-7B\" else 362000\n",
    "\n",
    "if path_to_model == \"\":\n",
    "  path_to_model = f'{bucket_base.strip(\"/\")}/{pretrained_model}'\n",
    "print(f'MODEL PATH: {path_to_model}\\n')\n",
    "\n",
    "if dset == \"\" and dataset != \"Sampling_Only\":\n",
    "  dset = dataset\n",
    "elif dataset is None and dset == \"\":\n",
    "  dset = \"pile\"\n",
    "\n",
    "def pad_to_multiple_of(n, mult):\n",
    "  \"\"\"\n",
    "  pads n to a multiple of mult\n",
    "  \"\"\"\n",
    "  extra = n % mult\n",
    "  if extra > 0:\n",
    "      n = n + mult - extra\n",
    "  return n\n",
    "\n",
    "with open(f'{path_to_local_weights}/config.json', 'r') as f:\n",
    "  data = json.load(f)\n",
    "  pprint(data)\n",
    "  dset_val = [[dset, None, None, None]] if dset != \"\" else data[\"datasets\"]\n",
    "  mods = {\n",
    "          \"mesh_shape\": mesh_shape,\n",
    "          \"layout\": \"intermediate_expanded:x,heads:x,memory_length:y,embd:y\",\n",
    "          \"model_path\": path_to_model,\n",
    "          \"datasets\": dset_val,\n",
    "          \"train_steps\": start_step + train_steps,\n",
    "          \"eval_steps\": 0,\n",
    "          \"train_batch_size\": batch_size,\n",
    "          \"predict_batch_size\": batch_size\n",
    "        }\n",
    "  data.update(mods)\n",
    "  print('\\n--->\\n')\n",
    "  pprint(data)\n",
    "  with open(f'configs/{pretrained_model}.json', 'w') as outfile:\n",
    "    json.dump(data, outfile, indent=2)"
   ]
  }
 ],
 "metadata": {
  "interpreter": {
   "hash": "937a4700de8d3fba9a565018cc1128fedfc453be14c975925800c10f9485a411"
  },
  "kernelspec": {
   "display_name": "Python 3 (ipykernel)",
   "language": "python",
   "name": "python3"
  },
  "language_info": {
   "codemirror_mode": {
    "name": "ipython",
    "version": 3
   },
   "file_extension": ".py",
   "mimetype": "text/x-python",
   "name": "python",
   "nbconvert_exporter": "python",
   "pygments_lexer": "ipython3",
   "version": "3.9.7"
  },
  "orig_nbformat": 4
 },
 "nbformat": 4,
 "nbformat_minor": 2
}
